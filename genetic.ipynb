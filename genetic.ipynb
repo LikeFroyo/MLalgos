{
 "cells": [
  {
   "cell_type": "code",
   "execution_count": null,
   "metadata": {},
   "outputs": [],
   "source": [
    "import numpy as np"
   ]
  },
  {
   "cell_type": "markdown",
   "metadata": {},
   "source": [
    "# Genetic algorithm"
   ]
  },
  {
   "cell_type": "code",
   "execution_count": 69,
   "metadata": {},
   "outputs": [],
   "source": [
    "class genetic(object):\n",
    "   \n",
    "    def __init__(self,epoc,mut,cross):\n",
    "        self.epoc = epoc\n",
    "        self.mut = mut\n",
    "        self.cross = cross\n",
    "        \n",
    "    def calc_fitness(self,weight):\n",
    "        return np.sum(x*weight,axis=1)\n",
    "\n",
    "    def get_best_pop_order(self,weight):\n",
    "        \n",
    "        fitness_score = self.calc_fitness(weight)\n",
    "\n",
    "        for i in range(fitness_score.shape[0]):\n",
    "            for j in range(0,fitness_score.shape[0]-i-1):\n",
    "                if(fitness_score[j]<fitness_score[j+1]):\n",
    "                    fitness_score[j], fitness_score[j+1] = fitness_score[j+1], fitness_score[j]\n",
    "                    weight[j], weight[j+1] = weight[j+1], weight[j]\n",
    "                    \n",
    "        return weight\n",
    "        \n",
    "    def gen_train(self,x):\n",
    "        \n",
    "        weight_gen = self.population() \n",
    "        print(self.calc_fitness(weight_gen))\n",
    "        \n",
    "        for i in range(self.epoc):\n",
    "            \n",
    "            weight_gen = self.get_best_pop_order( weight_gen )\n",
    "            cross_prod = self.get_best_pop_order( self.cross_func(weight_gen[:self.cross]) )\n",
    "            weight_gen[5] = cross_prod[0]\n",
    "            \n",
    "        print(self.calc_fitness(weight_gen))\n",
    "                \n",
    "    def cross_func(self,weight):\n",
    "        \n",
    "        sing_point = 3\n",
    "        n1 = np.random.randint(0,self.cross-1)\n",
    "        n2 = np.random.randint(0,self.cross-1)\n",
    "    \n",
    "        weight[n1] = np.concatenate( ( weight[n1,0:sing_point],weight[n2,sing_point:weight.shape[1]] ) ,axis=None ) \n",
    "        weight[n2] = np.concatenate( ( weight[n2,0:sing_point],weight[n1,sing_point:weight.shape[1]] ) ,axis=None ) \n",
    "        \n",
    "        return weight\n",
    "            \n",
    "    def population(self):\n",
    "        return np.random.randint(-4,4,size=(6,6))\n",
    "        "
   ]
  },
  {
   "cell_type": "code",
   "execution_count": 106,
   "metadata": {},
   "outputs": [
    {
     "name": "stdout",
     "output_type": "stream",
     "text": [
      "[ -8   0  -5  -7 -13   7]\n",
      "[7 7 7 7 7 7]\n"
     ]
    }
   ],
   "source": [
    "x = np.array([-4,3,2,4,-1,2])\n",
    "gen =  genetic(1000,0.5,4)\n",
    "gen.gen_train(x)"
   ]
  },
  {
   "cell_type": "code",
   "execution_count": 104,
   "metadata": {},
   "outputs": [
    {
     "ename": "IndentationError",
     "evalue": "unindent does not match any outer indentation level (<tokenize>, line 9)",
     "output_type": "error",
     "traceback": [
      "\u001b[1;36m  File \u001b[1;32m\"<tokenize>\"\u001b[1;36m, line \u001b[1;32m9\u001b[0m\n\u001b[1;33m    <-- def tounrament(fitness_score,trn_btw,no_of_trn):\u001b[0m\n\u001b[1;37m    ^\u001b[0m\n\u001b[1;31mIndentationError\u001b[0m\u001b[1;31m:\u001b[0m unindent does not match any outer indentation level\n"
     ]
    }
   ],
   "source": [
    "class selection_methods(object):\n",
    "    \n",
    "    def rolWh(fitness_score):\n",
    "        cu_sum = np.sum(fitness_score,axis=0)\n",
    "        temp = np.array([np.sum(fitness_score[0:i+1])/100 for i in range(fitness_score.shape[0])])\n",
    "        arb_index = np.argmax(temp>np.random.uniform())\n",
    "        return arb_index\n",
    "    \n",
    "    def tounrament(fitness_score,trn_btw,no_of_trn):\n",
    "        max = \n",
    "        for _ in range(no_of_train):\n",
    "            get_array_index = np.array([fitness_score[np.random.randint(0,fitness_score.shape[0])] for i in range(trn_btw)])\n",
    "           "
   ]
  },
  {
   "cell_type": "code",
   "execution_count": 105,
   "metadata": {},
   "outputs": [
    {
     "ename": "NameError",
     "evalue": "name 'selection_methods' is not defined",
     "output_type": "error",
     "traceback": [
      "\u001b[1;31m---------------------------------------------------------------------------\u001b[0m",
      "\u001b[1;31mNameError\u001b[0m                                 Traceback (most recent call last)",
      "\u001b[1;32m<ipython-input-105-f48f29270d0d>\u001b[0m in \u001b[0;36m<module>\u001b[1;34m\u001b[0m\n\u001b[0;32m      1\u001b[0m \u001b[0mfitness_score\u001b[0m \u001b[1;33m=\u001b[0m \u001b[0mnp\u001b[0m\u001b[1;33m.\u001b[0m\u001b[0marray\u001b[0m\u001b[1;33m(\u001b[0m\u001b[1;33m[\u001b[0m\u001b[1;36m10\u001b[0m\u001b[1;33m,\u001b[0m\u001b[1;36m20\u001b[0m\u001b[1;33m,\u001b[0m\u001b[1;36m30\u001b[0m\u001b[1;33m,\u001b[0m\u001b[1;36m40\u001b[0m\u001b[1;33m]\u001b[0m\u001b[1;33m)\u001b[0m\u001b[1;33m\u001b[0m\u001b[1;33m\u001b[0m\u001b[0m\n\u001b[1;32m----> 2\u001b[1;33m \u001b[0mselec_method\u001b[0m \u001b[1;33m=\u001b[0m \u001b[0mselection_methods\u001b[0m\u001b[1;33m(\u001b[0m\u001b[1;33m)\u001b[0m\u001b[1;33m\u001b[0m\u001b[1;33m\u001b[0m\u001b[0m\n\u001b[0m\u001b[0;32m      3\u001b[0m \u001b[0mselec_method\u001b[0m\u001b[1;33m.\u001b[0m\u001b[0mrolWh\u001b[0m\u001b[1;33m(\u001b[0m\u001b[0mfitness_score\u001b[0m\u001b[1;33m)\u001b[0m\u001b[1;33m\u001b[0m\u001b[1;33m\u001b[0m\u001b[0m\n",
      "\u001b[1;31mNameError\u001b[0m: name 'selection_methods' is not defined"
     ]
    }
   ],
   "source": [
    "fitness_score = np.array([10,20,30,40])\n",
    "selec_method = selection_methods()\n",
    "selec_method.rolWh(fitness_score)"
   ]
  },
  {
   "cell_type": "code",
   "execution_count": null,
   "metadata": {},
   "outputs": [],
   "source": []
  }
 ],
 "metadata": {
  "kernelspec": {
   "display_name": "Python 3",
   "language": "python",
   "name": "python3"
  },
  "language_info": {
   "codemirror_mode": {
    "name": "ipython",
    "version": 3
   },
   "file_extension": ".py",
   "mimetype": "text/x-python",
   "name": "python",
   "nbconvert_exporter": "python",
   "pygments_lexer": "ipython3",
   "version": "3.7.3"
  }
 },
 "nbformat": 4,
 "nbformat_minor": 4
}
