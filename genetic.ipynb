{
 "cells": [
  {
   "cell_type": "code",
   "execution_count": null,
   "metadata": {},
   "outputs": [],
   "source": [
    "import numpy as np"
   ]
  },
  {
   "cell_type": "markdown",
   "metadata": {},
   "source": [
    "# Genetic algorithm"
   ]
  },
  {
   "cell_type": "code",
   "execution_count": 69,
   "metadata": {},
   "outputs": [],
   "source": [
    "class genetic(object):\n",
    "   \n",
    "    def __init__(self,epoc,mut,cross):\n",
    "        self.epoc = epoc\n",
    "        self.mut = mut\n",
    "        self.cross = cross\n",
    "        \n",
    "    def calc_fitness(self,weight):\n",
    "        return np.sum(x*weight,axis=1)\n",
    "\n",
    "    def get_best_pop_order(self,weight):\n",
    "        \n",
    "        fitness_score = self.calc_fitness(weight)\n",
    "\n",
    "        for i in range(fitness_score.shape[0]):\n",
    "            for j in range(0,fitness_score.shape[0]-i-1):\n",
    "                if(fitness_score[j]<fitness_score[j+1]):\n",
    "                    fitness_score[j], fitness_score[j+1] = fitness_score[j+1], fitness_score[j]\n",
    "                    weight[j], weight[j+1] = weight[j+1], weight[j]\n",
    "                    \n",
    "        return weight\n",
    "        \n",
    "    def gen_train(self,x):\n",
    "        \n",
    "        weight_gen = self.population() \n",
    "        print(self.calc_fitness(weight_gen))\n",
    "        \n",
    "        for i in range(self.epoc):\n",
    "            \n",
    "            weight_gen = self.get_best_pop_order( weight_gen )\n",
    "            cross_prod = self.get_best_pop_order( self.cross_func(weight_gen[:self.cross]) )\n",
    "            weight_gen[5] = cross_prod[0]\n",
    "            \n",
    "        print(self.calc_fitness(weight_gen))\n",
    "                \n",
    "    def cross_func(self,weight):\n",
    "        \n",
    "        sing_point = 3\n",
    "        n1 = np.random.randint(0,self.cross-1)\n",
    "        n2 = np.random.randint(0,self.cross-1)\n",
    "    \n",
    "        weight[n1] = np.concatenate( ( weight[n1,0:sing_point],weight[n2,sing_point:weight.shape[1]] ) ,axis=None ) \n",
    "        weight[n2] = np.concatenate( ( weight[n2,0:sing_point],weight[n1,sing_point:weight.shape[1]] ) ,axis=None ) \n",
    "        \n",
    "        return weight\n",
    "            \n",
    "    def population(self):\n",
    "        return np.random.randint(-4,4,size=(6,6))\n",
    "        "
   ]
  },
  {
   "cell_type": "code",
   "execution_count": 106,
   "metadata": {},
   "outputs": [
    {
     "name": "stdout",
     "output_type": "stream",
     "text": [
      "[ -8   0  -5  -7 -13   7]\n",
      "[7 7 7 7 7 7]\n"
     ]
    }
   ],
   "source": [
    "x = np.array([-4,3,2,4,-1,2])\n",
    "gen =  genetic(1000,0.5,4)\n",
    "gen.gen_train(x)"
   ]
  },
  {
   "cell_type": "code",
   "execution_count": 126,
   "metadata": {},
   "outputs": [],
   "source": [
    "class selection_methods(object):\n",
    "    \n",
    "    def rolWh(self,fitness_score):\n",
    "        cu_sum = np.sum(fitness_score,axis=0)\n",
    "        temp = np.array([np.sum(fitness_score[0:i+1])/100 for i in range(fitness_score.shape[0])])\n",
    "        arb_index = np.argmax(temp>np.random.uniform())\n",
    "        return arb_index\n",
    "    \n",
    "    def tournament(self,fitness_score,trn_btw,no_of_trn):\n",
    "        for _ in range(no_of_trn):\n",
    "            get_array_trn = np.array([fitness_score[np.random.randint(0,fitness_score.shape[0])] for i in range(trn_btw)])\n",
    "            winner_index = np.argmax(get_array_trn)\n",
    "            print(winner_index,\" : \",fitness_score[winner_index])"
   ]
  },
  {
   "cell_type": "code",
   "execution_count": 127,
   "metadata": {},
   "outputs": [
    {
     "name": "stdout",
     "output_type": "stream",
     "text": [
      "0  :  10\n",
      "1  :  20\n"
     ]
    }
   ],
   "source": [
    "fitness_score = np.array([10,20,30,40])\n",
    "selec_method = selection_methods()\n",
    "selec_method.tournament(fitness_score,3,2)\n"
   ]
  },
  {
   "cell_type": "code",
   "execution_count": null,
   "metadata": {},
   "outputs": [],
   "source": []
  },
  {
   "cell_type": "code",
   "execution_count": null,
   "metadata": {},
   "outputs": [],
   "source": []
  }
 ],
 "metadata": {
  "kernelspec": {
   "display_name": "Python 3",
   "language": "python",
   "name": "python3"
  },
  "language_info": {
   "codemirror_mode": {
    "name": "ipython",
    "version": 3
   },
   "file_extension": ".py",
   "mimetype": "text/x-python",
   "name": "python",
   "nbconvert_exporter": "python",
   "pygments_lexer": "ipython3",
   "version": "3.7.3"
  }
 },
 "nbformat": 4,
 "nbformat_minor": 4
}
